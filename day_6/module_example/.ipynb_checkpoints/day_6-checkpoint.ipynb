{
 "cells": [
  {
   "cell_type": "code",
   "execution_count": null,
   "metadata": {
    "collapsed": true
   },
   "outputs": [],
   "source": [
    "# List image"
   ]
  },
  {
   "cell_type": "markdown",
   "metadata": {},
   "source": [
    "![image](../list_relationship_chart.jpg)\n"
   ]
  },
  {
   "cell_type": "code",
   "execution_count": null,
   "metadata": {
    "collapsed": true
   },
   "outputs": [],
   "source": [
    "# insert list chart here"
   ]
  },
  {
   "cell_type": "markdown",
   "metadata": {},
   "source": [
    "# import\n",
    "---"
   ]
  },
  {
   "cell_type": "code",
   "execution_count": null,
   "metadata": {
    "collapsed": true
   },
   "outputs": [],
   "source": [
    "# importing code from another python file"
   ]
  },
  {
   "cell_type": "code",
   "execution_count": null,
   "metadata": {
    "collapsed": true
   },
   "outputs": [],
   "source": [
    "# 4 ways (1 is bad)\n",
    "# - bring in everything\n",
    "# - bring in everything alias\n",
    "# - bring in everything by clouding the namespace\n",
    "# - bring in specfic parts"
   ]
  },
  {
   "cell_type": "code",
   "execution_count": 4,
   "metadata": {},
   "outputs": [
    {
     "name": "stdout",
     "output_type": "stream",
     "text": [
      "You just inserted <Hello> into this sentence.\n",
      "2\n",
      "3\n",
      "ten\n"
     ]
    }
   ],
   "source": [
    "# bring in everything\n",
    "import bad_module_example\n",
    "\n",
    "#in order to access (use) things from this module, just prepend the name of the module like this\n",
    "print(bad_module_example.insert_name(\"Hello\"))\n",
    "print(bad_module_example.x)\n",
    "print(bad_module_example.y)\n",
    "print(bad_module_example.age)\n"
   ]
  },
  {
   "cell_type": "code",
   "execution_count": 2,
   "metadata": {},
   "outputs": [
    {
     "name": "stdout",
     "output_type": "stream",
     "text": [
      "You just inserted <Hello> into this sentence.\n",
      "2\n",
      "2\n",
      "ten\n"
     ]
    }
   ],
   "source": [
    "# bring in everything with an alias\n",
    "import bad_module_example as bme\n",
    "\n",
    "#in order to access (use) things from this module, just prepend the alias we used (bme)\n",
    "print(bme.insert_name(\"Hello\"))\n",
    "print(bme.x)\n",
    "print(bme.x)\n",
    "print(bme.age)"
   ]
  },
  {
   "cell_type": "code",
   "execution_count": 3,
   "metadata": {},
   "outputs": [
    {
     "name": "stdout",
     "output_type": "stream",
     "text": [
      "You just inserted <Hello> into this sentence.\n",
      "9\n",
      "3\n",
      "ten\n"
     ]
    }
   ],
   "source": [
    "# bring in everything by clouding the namespace\n",
    "from bad_module_example import *\n",
    "\n",
    "x = 9\n",
    "#in order to access (use) things from this module, we can just use the variable (or function) names directly (no prepending is needed)\n",
    "insert_name(\"Hello\")\n",
    "print(insert_name(\"Hello\"))\n",
    "print(x)\n",
    "print(y)\n",
    "print(age)"
   ]
  },
  {
   "cell_type": "code",
   "execution_count": 2,
   "metadata": {},
   "outputs": [
    {
     "name": "stdout",
     "output_type": "stream",
     "text": [
      "You just inserted <Hello> into this sentence.\n",
      "2\n",
      "3\n"
     ]
    },
    {
     "ename": "NameError",
     "evalue": "name 'age' is not defined",
     "output_type": "error",
     "traceback": [
      "\u001b[0;31m---------------------------------------------------------------------------\u001b[0m",
      "\u001b[0;31mNameError\u001b[0m                                 Traceback (most recent call last)",
      "\u001b[0;32m<ipython-input-2-4d5678ab1ce0>\u001b[0m in \u001b[0;36m<module>\u001b[0;34m()\u001b[0m\n\u001b[1;32m      6\u001b[0m \u001b[0mprint\u001b[0m\u001b[0;34m(\u001b[0m\u001b[0mx\u001b[0m\u001b[0;34m)\u001b[0m\u001b[0;34m\u001b[0m\u001b[0m\n\u001b[1;32m      7\u001b[0m \u001b[0mprint\u001b[0m\u001b[0;34m(\u001b[0m\u001b[0my\u001b[0m\u001b[0;34m)\u001b[0m\u001b[0;34m\u001b[0m\u001b[0m\n\u001b[0;32m----> 8\u001b[0;31m \u001b[0mprint\u001b[0m\u001b[0;34m(\u001b[0m\u001b[0mage\u001b[0m\u001b[0;34m)\u001b[0m\u001b[0;34m\u001b[0m\u001b[0m\n\u001b[0m",
      "\u001b[0;31mNameError\u001b[0m: name 'age' is not defined"
     ]
    }
   ],
   "source": [
    "# bring in specific parts\n",
    "from bad_module_example import insert_name, x\n",
    "\n",
    "#in order to access (use) things that we imported, we can just use the variable (or function) names directly (no prepending is needed)\n",
    "print(insert_name(\"Hello\"))\n",
    "print(x)\n",
    "print(y)\n",
    "print(age)"
   ]
  },
  {
   "cell_type": "markdown",
   "metadata": {},
   "source": [
    "# doc strings"
   ]
  },
  {
   "cell_type": "code",
   "execution_count": null,
   "metadata": {
    "collapsed": true
   },
   "outputs": [],
   "source": [
    "# doc strings must be the first thing following the function signature in the function definition."
   ]
  },
  {
   "cell_type": "code",
   "execution_count": 5,
   "metadata": {
    "collapsed": true
   },
   "outputs": [],
   "source": [
    "def do_some_complicated_stuff(quantity, price, tax):\n",
    "    \"\"\"\n",
    "    this function will multiply the quantity by the price and then multiply by the tax and return a rounded integer\n",
    "    \n",
    "    examples:\n",
    "    #do_some_complicated_stuff(10, 5, .05) => 52\n",
    "    do_some_complicated_stuff(10, 10, .10) => 110\n",
    "    \n",
    "    quantity: <int> the quantity of thing to buy\n",
    "    price: <int> the cost as a whole dollar amount\n",
    "    tax: <float> the tax percentage as a decimalbetween 0 and 1\n",
    "    \"\"\"\n",
    "    return round(quantity*price*tax)\n"
   ]
  },
  {
   "cell_type": "code",
   "execution_count": null,
   "metadata": {
    "collapsed": true
   },
   "outputs": [],
   "source": [
    "# use shift tab to check out the doc string\n",
    "do_some_complicated_stuff"
   ]
  },
  {
   "cell_type": "markdown",
   "metadata": {},
   "source": [
    "# doc string tests"
   ]
  },
  {
   "cell_type": "code",
   "execution_count": null,
   "metadata": {
    "collapsed": true
   },
   "outputs": [],
   "source": [
    "#SCRIPT FILE - strings.py"
   ]
  },
  {
   "cell_type": "code",
   "execution_count": null,
   "metadata": {
    "collapsed": true
   },
   "outputs": [],
   "source": [
    "import doctest\n",
    "doctest.testmod()"
   ]
  },
  {
   "cell_type": "markdown",
   "metadata": {},
   "source": [
    "# opening / reading / writing to / from / files\n"
   ]
  },
  {
   "cell_type": "code",
   "execution_count": 17,
   "metadata": {
    "scrolled": true
   },
   "outputs": [
    {
     "name": "stdout",
     "output_type": "stream",
     "text": [
      "Some thing\n",
      "\n",
      "you can\n",
      "\n",
      "is messed\n",
      "\n",
      "fix this situation?\n",
      "\n",
      "up in this file\n",
      "\n",
      "Do you think\n",
      "\n",
      "5\n"
     ]
    }
   ],
   "source": [
    "with open(\"file.txt\", 'r') as filename:\n",
    "    # filename is a variable (alias) that is referencing a file object.\n",
    "    # This file object can be used to get the contents of the file\n",
    "    for line in filename:\n",
    "        print(line)\n",
    "\n",
    "#     print(filename.write('5'))"
   ]
  },
  {
   "cell_type": "code",
   "execution_count": null,
   "metadata": {
    "collapsed": true
   },
   "outputs": [],
   "source": [
    "# 'r'       open for reading (default)\n",
    "# 'w'       open for writing, truncating the file first\n",
    "# 'x'       create a new file and open it for writing\n",
    "# 'a'       open for writing, appending to the end of the file if it exists"
   ]
  },
  {
   "cell_type": "raw",
   "metadata": {},
   "source": [
    "# using with is nice because we dont have to remember to close our file.  As soon as we leave the with block, the file is automatically closed for us by python"
   ]
  },
  {
   "cell_type": "code",
   "execution_count": null,
   "metadata": {
    "collapsed": true
   },
   "outputs": [],
   "source": [
    "# top down programming"
   ]
  },
  {
   "cell_type": "code",
   "execution_count": null,
   "metadata": {
    "collapsed": true
   },
   "outputs": [],
   "source": [
    "# cyoa game narnia"
   ]
  },
  {
   "cell_type": "code",
   "execution_count": null,
   "metadata": {
    "collapsed": true
   },
   "outputs": [],
   "source": [
    "# higher order functions\n",
    "# a function that takes another function as input or returns a function as output is a higher order function"
   ]
  }
 ],
 "metadata": {
  "kernelspec": {
   "display_name": "Python 3",
   "language": "python",
   "name": "python3"
  },
  "language_info": {
   "codemirror_mode": {
    "name": "ipython",
    "version": 3
   },
   "file_extension": ".py",
   "mimetype": "text/x-python",
   "name": "python",
   "nbconvert_exporter": "python",
   "pygments_lexer": "ipython3",
   "version": "3.6.1"
  }
 },
 "nbformat": 4,
 "nbformat_minor": 2
}
